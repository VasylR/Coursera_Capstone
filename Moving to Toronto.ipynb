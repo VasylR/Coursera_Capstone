{
 "cells": [
  {
   "cell_type": "markdown",
   "metadata": {},
   "source": [
    "# Introduction/Business Problem"
   ]
  },
  {
   "cell_type": "markdown",
   "metadata": {},
   "source": [
    "I'm planning to move to Toronot from Montreal. I would like to move to the neighbourhood similar to where I currenlty live. For that purpose I would need to use Foursquare API to get the venues in my current neighbourhood. I would need to use clustering to determine cluster labels for Montreal.\n",
    "\n",
    "Next, using Foursquare API, I'll fetch venues data for Toronoto. Instead of clustering I'll use classification methodology to classify Toronto's neighbourhoods given labels from Montreal neighbourhood clusterization. Then I'll choose same clusters in Toronto that I like in Montreal. And that would be my neighborhood of first choice to consider.\n"
   ]
  },
  {
   "cell_type": "markdown",
   "metadata": {},
   "source": [
    "# Data "
   ]
  },
  {
   "cell_type": "markdown",
   "metadata": {},
   "source": [
    "1. I'll be using Foursquare API Venue\n",
    "\n",
    "https://api.foursquare.com/v2/venues/explore\n",
    "\n",
    "GET https://api.foursquare.com/v2/venues/explore\n",
    "\n",
    "Returns a list of recommended venues near the current location. For more robust information about the venues themselves (photos/tips/etc.), please see our venue details endpoint.\n",
    "\n",
    "### Request API \n",
    "\n",
    "| Name\t| Example\t| Description | \n",
    "|------|------|------|\n",
    "|   ll  | 40.74224,-73.99386| required unless near is provided. Latitude and longitude of the user's location.|\n",
    "|   near  | Chicago, IL| required unless ll is provided. A string naming a place in the world. If the near string is not geocodable, returns a failed_geocode error. Otherwise, searches within the bounds of the geocode and adds a geocode object to the response.|\n",
    "|   radius  | 250| Radius to search within, in meters. If radius is not specified, a suggested radius will be used based on the density of venues in the area. The maximum supported radius is currently 100,000 meters.|\n",
    "\n",
    "### Response Fields\n",
    "\n",
    "| Field\t\t| Description | \n",
    "|------|------|\n",
    "| warning| Presents an object with a text field that contains a warning message, if applicable (i.e. not enough results, try doing X).|\n",
    "| groups| A text name for the location the user searched, e.g. \"SoHo\".|\n",
    "| headerLocation| A text name for the location the user searched, e.g. \"SoHo\".|\n",
    "| id| A unique string identifier for this venue.|\n",
    "| name|The best known name for this venue.|\n",
    "| location|An object containing none, some, or all of address (street address), crossStreet, city, state, postalCode, country, lat, lng, and distance. All fields are strings, except for lat, lng, and distance. Distance is measured in meters. Some venues have their locations intentionally hidden for privacy reasons (such as private residences). If this is the case, the parameter isFuzzed will be set to true, and the lat/lng parameters will have reduced precision.|\n",
    "| categories | An array, possibly empty, of categories that have been applied to this venue. One of the categories will have a primary field indicating that it is the primary category for the venue. For the complete category tree, see categories.|\n",
    "\n",
    "\n",
    "    \n",
    "2. I'll do same clustering exercise as I did for clustering Toronto neighbourhood, but this time for Montreal city.\n",
    "\n",
    "Postal Codes for Montreal:\n",
    "https://en.wikipedia.org/wiki/List_of_postal_codes_of_Canada:_H\n",
    "    \n",
    "2. I'll use K-Nearest Neighbour Classifier to predict neghbour cluster given venues in 500m proximity.   "
   ]
  },
  {
   "cell_type": "code",
   "execution_count": null,
   "metadata": {},
   "outputs": [],
   "source": []
  }
 ],
 "metadata": {
  "kernelspec": {
   "display_name": "Python 3",
   "language": "python",
   "name": "python3"
  },
  "language_info": {
   "codemirror_mode": {
    "name": "ipython",
    "version": 3
   },
   "file_extension": ".py",
   "mimetype": "text/x-python",
   "name": "python",
   "nbconvert_exporter": "python",
   "pygments_lexer": "ipython3",
   "version": "3.7.3"
  }
 },
 "nbformat": 4,
 "nbformat_minor": 4
}
